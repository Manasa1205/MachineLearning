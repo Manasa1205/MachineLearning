{
  "cells": [
    {
      "cell_type": "markdown",
      "id": "d4eb5b68",
      "metadata": {
        "id": "d4eb5b68"
      },
      "source": [
        "# Importing Libraries"
      ]
    },
    {
      "cell_type": "code",
      "execution_count": null,
      "id": "8c3c73d8",
      "metadata": {
        "id": "8c3c73d8"
      },
      "outputs": [],
      "source": [
        "# working on dataframe\n",
        "import pandas as pd\n",
        "\n",
        "# mathematical calculation\n",
        "import numpy as np\n",
        "\n",
        "# plotting graphs\n",
        "import matplotlib.pyplot as plt\n",
        "\n",
        "# text processing\n",
        "import nltk\n",
        "\n",
        "# regex expression\n",
        "import re\n",
        "\n",
        "# ML and staistical model tools are present here\n",
        "import sklearn\n",
        "\n",
        "# to obtain a list of stopwords\n",
        "from nltk.corpus import stopwords\n",
        "\n",
        "# For tokenization\n",
        "from nltk.tokenize import word_tokenize\n",
        "\n",
        "# For lemmatization\n",
        "from nltk.stem import WordNetLemmatizer\n",
        "\n",
        "# for splitting dataset\n",
        "from sklearn.model_selection import train_test_split\n",
        "\n",
        "import keras\n",
        "\n",
        "# to encode text to int\n",
        "from keras.preprocessing.text import Tokenizer\n",
        "\n",
        "# to do padding\n",
        "from keras.preprocessing.sequence import pad_sequences\n",
        "\n",
        "# for saving ML models\n",
        "from keras.callbacks import ModelCheckpoint\n",
        "\n",
        "# for modelsequencing the layers\n",
        "from keras import Sequential\n",
        "\n",
        "# layers of the architecture\n",
        "from keras.layers import Embedding, LSTM, Dense, Dropout\n",
        "\n",
        "# for loading saved model\n",
        "from tensorflow.keras.models import load_model\n",
        "\n",
        "# for determining metrics plotting confusion matrix\n",
        "from sklearn.metrics import f1_score, confusion_matrix, roc_curve, auc, classification_report"
      ]
    },
    {
      "cell_type": "code",
      "execution_count": null,
      "id": "3fa2a2f3",
      "metadata": {
        "id": "3fa2a2f3"
      },
      "outputs": [],
      "source": [
        "from transformers import DistilBertTokenizer, DistilBertModel\n",
        "import torch\n",
        "import torch.nn as nn\n",
        "from torch.utils.data import DataLoader, TensorDataset"
      ]
    },
    {
      "cell_type": "code",
      "execution_count": null,
      "id": "dc8649e8",
      "metadata": {
        "id": "dc8649e8",
        "outputId": "fa9b0ddd-3bc2-414f-def3-c4786a55a51f"
      },
      "outputs": [
        {
          "name": "stderr",
          "output_type": "stream",
          "text": [
            "[nltk_data] Downloading package punkt to\n",
            "[nltk_data]     C:\\Users\\Abhishek\\AppData\\Roaming\\nltk_data...\n",
            "[nltk_data]   Package punkt is already up-to-date!\n",
            "[nltk_data] Downloading package stopwords to\n",
            "[nltk_data]     C:\\Users\\Abhishek\\AppData\\Roaming\\nltk_data...\n",
            "[nltk_data]   Package stopwords is already up-to-date!\n",
            "[nltk_data] Downloading package wordnet to\n",
            "[nltk_data]     C:\\Users\\Abhishek\\AppData\\Roaming\\nltk_data...\n",
            "[nltk_data]   Package wordnet is already up-to-date!\n"
          ]
        },
        {
          "data": {
            "text/plain": [
              "True"
            ]
          },
          "execution_count": 3,
          "metadata": {},
          "output_type": "execute_result"
        }
      ],
      "source": [
        "nltk.download('punkt')\n",
        "nltk.download('stopwords')\n",
        "nltk.download('wordnet')"
      ]
    },
    {
      "cell_type": "markdown",
      "id": "dcb0f610",
      "metadata": {
        "id": "dcb0f610"
      },
      "source": [
        "# importing Dataset"
      ]
    },
    {
      "cell_type": "code",
      "execution_count": null,
      "id": "f2dd6d65",
      "metadata": {
        "id": "f2dd6d65",
        "outputId": "e1df5e20-d8df-4c43-a503-52b2d0459fef"
      },
      "outputs": [
        {
          "name": "stdout",
          "output_type": "stream",
          "text": [
            "<class 'pandas.core.frame.DataFrame'>\n",
            "RangeIndex: 50000 entries, 0 to 49999\n",
            "Data columns (total 2 columns):\n",
            " #   Column     Non-Null Count  Dtype \n",
            "---  ------     --------------  ----- \n",
            " 0   review     50000 non-null  object\n",
            " 1   sentiment  50000 non-null  object\n",
            "dtypes: object(2)\n",
            "memory usage: 781.4+ KB\n"
          ]
        }
      ],
      "source": [
        "imdb_df = pd.read_csv('IMDB Dataset.csv')\n",
        "imdb_df.info()"
      ]
    },
    {
      "cell_type": "markdown",
      "id": "0bfb02df",
      "metadata": {
        "id": "0bfb02df"
      },
      "source": [
        "# Checking Null Values and droping them if present using 5 % rule"
      ]
    },
    {
      "cell_type": "code",
      "execution_count": null,
      "id": "d6f7b61a",
      "metadata": {
        "id": "d6f7b61a",
        "outputId": "c46943f1-8cfd-4bbe-840a-d6e9e4ae3bc7"
      },
      "outputs": [
        {
          "data": {
            "text/plain": [
              "review       0\n",
              "sentiment    0\n",
              "dtype: int64"
            ]
          },
          "execution_count": 5,
          "metadata": {},
          "output_type": "execute_result"
        }
      ],
      "source": [
        "imdb_df.isnull().sum()"
      ]
    },
    {
      "cell_type": "code",
      "execution_count": null,
      "id": "8b6ac1b2",
      "metadata": {
        "id": "8b6ac1b2",
        "outputId": "99fc79de-7376-464e-c615-edd55aa03f84"
      },
      "outputs": [
        {
          "data": {
            "text/plain": [
              "review       0\n",
              "sentiment    0\n",
              "dtype: int64"
            ]
          },
          "metadata": {},
          "output_type": "display_data"
        }
      ],
      "source": [
        "imdb_df.dropna(inplace=True)\n",
        "display(imdb_df.isnull().sum())"
      ]
    },
    {
      "cell_type": "markdown",
      "id": "33fe57a7",
      "metadata": {
        "id": "33fe57a7"
      },
      "source": [
        "# Plotting label Distribution Graphs"
      ]
    },
    {
      "cell_type": "code",
      "execution_count": null,
      "id": "ed5650a9",
      "metadata": {
        "id": "ed5650a9",
        "outputId": "80fb6189-cd67-4e87-9b9c-61ab9da8a150"
      },
      "outputs": [
        {
          "data": {
            "text/plain": [
              "(25000, 2)"
            ]
          },
          "metadata": {},
          "output_type": "display_data"
        },
        {
          "data": {
            "text/plain": [
              "(25000, 2)"
            ]
          },
          "metadata": {},
          "output_type": "display_data"
        },
        {
          "data": {
            "text/plain": [
              "Text(0.5, 1.0, 'Sentiment Distribution')"
            ]
          },
          "execution_count": 7,
          "metadata": {},
          "output_type": "execute_result"
        },
        {
          "data": {
            "image/png": "[encoded data removed]",
            "text/plain": [
              "<Figure size 640x480 with 1 Axes>"
            ]
          },
          "metadata": {},
          "output_type": "display_data"
        }
      ],
      "source": [
        "positive = imdb_df.loc[imdb_df['sentiment'] == 'positive']\n",
        "negative = imdb_df.loc[imdb_df['sentiment'] == 'negative']\n",
        "display(positive.shape)\n",
        "display(negative.shape)\n",
        "plt.pie([len(positive),len(negative)], labels = imdb_df['sentiment'].unique())\n",
        "plt.title('Sentiment Distribution')"
      ]
    },
    {
      "cell_type": "markdown",
      "id": "6da47c0a",
      "metadata": {
        "id": "6da47c0a"
      },
      "source": [
        "# Check for duplicates amd drop them if present"
      ]
    },
    {
      "cell_type": "code",
      "execution_count": null,
      "id": "78ce98e7",
      "metadata": {
        "id": "78ce98e7",
        "outputId": "6ef6fe7f-3629-4b31-9db6-db148e69546d"
      },
      "outputs": [
        {
          "data": {
            "text/plain": [
              "418"
            ]
          },
          "execution_count": 8,
          "metadata": {},
          "output_type": "execute_result"
        }
      ],
      "source": [
        "imdb_df.duplicated().sum()"
      ]
    },
    {
      "cell_type": "code",
      "execution_count": null,
      "id": "6ed1f633",
      "metadata": {
        "id": "6ed1f633",
        "outputId": "3a6463a1-70da-4907-becd-f57dc38c0f9a"
      },
      "outputs": [
        {
          "data": {
            "text/plain": [
              "(24884, 2)"
            ]
          },
          "metadata": {},
          "output_type": "display_data"
        },
        {
          "data": {
            "text/plain": [
              "(24698, 2)"
            ]
          },
          "metadata": {},
          "output_type": "display_data"
        },
        {
          "data": {
            "text/plain": [
              "Text(0.5, 1.0, 'Sentiment Distribution')"
            ]
          },
          "execution_count": 9,
          "metadata": {},
          "output_type": "execute_result"
        },
        {
          "data": {
            "image/png": "[encoded data removed]",
            "text/plain": [
              "<Figure size 640x480 with 1 Axes>"
            ]
          },
          "metadata": {},
          "output_type": "display_data"
        }
      ],
      "source": [
        "imdb_df.drop_duplicates(inplace=True)\n",
        "positive = imdb_df.loc[imdb_df['sentiment'] == 'positive']\n",
        "negative = imdb_df.loc[imdb_df['sentiment'] == 'negative']\n",
        "display(positive.shape)\n",
        "display(negative.shape)\n",
        "plt.pie([len(positive),len(negative)], labels = imdb_df['sentiment'].unique())\n",
        "plt.title('Sentiment Distribution')"
      ]
    },
    {
      "cell_type": "markdown",
      "id": "88ef499a",
      "metadata": {
        "id": "88ef499a"
      },
      "source": [
        "# Data Preprocessing"
      ]
    },
    {
      "cell_type": "code",
      "execution_count": null,
      "id": "4d6a2b6c",
      "metadata": {
        "id": "4d6a2b6c"
      },
      "outputs": [],
      "source": [
        "stop_words = set(stopwords.words('english'))\n",
        "word_net_lemmatizer = WordNetLemmatizer()"
      ]
    },
    {
      "cell_type": "code",
      "execution_count": null,
      "id": "1359bd34",
      "metadata": {
        "id": "1359bd34"
      },
      "outputs": [],
      "source": [
        "def lower_casing(text):\n",
        "    return text.lower()\n",
        "\n",
        "def tokenization(text):\n",
        "    text_tokens = word_tokenize(text)\n",
        "    #Stop Word Removal\n",
        "    filtered_text = [w for w in text_tokens if not w in stop_words]\n",
        "    return filtered_text\n",
        "\n",
        "def lemmatization(text):\n",
        "    text = [word_net_lemmatizer.lemmatize(word) for word in text]\n",
        "    return text\n",
        "\n",
        "def data_processing(text):\n",
        "    # Lowering the Text\n",
        "    text = lower_casing(text)\n",
        "    text = re.sub('<br />', '', text)\n",
        "    text = re.sub('<.*?>','',text)\n",
        "    text = re.sub(r\"https\\S+|www\\S+|http\\S+\", '', text, flags = re.MULTILINE)\n",
        "    text = re.sub(r'\\@w+|\\#', '', text)\n",
        "    text = re.sub(r'[^\\w\\s]', '', text)\n",
        "    #Tokenizing the sentences\n",
        "    text = tokenization(text)\n",
        "    #lemmatizing the words\n",
        "    text = lemmatization(text)\n",
        "#     print(text)\n",
        "    return text"
      ]
    },
    {
      "cell_type": "code",
      "execution_count": null,
      "id": "b5ee7410",
      "metadata": {
        "id": "b5ee7410"
      },
      "outputs": [],
      "source": [
        "imdb_df['review'] = imdb_df['review'].replace({'[^A-Za-z]': ' '}, regex = True)\n",
        "imdb_df['reviews'] = imdb_df['review'].apply(data_processing)"
      ]
    },
    {
      "cell_type": "code",
      "execution_count": null,
      "id": "e4bf7933",
      "metadata": {
        "id": "e4bf7933"
      },
      "outputs": [],
      "source": [
        "# Encoding output to numerical values\n",
        "imdb_df.sentiment.replace(\"positive\", 1, inplace=True)\n",
        "imdb_df.sentiment.replace(\"negative\", 0, inplace=True)"
      ]
    },
    {
      "cell_type": "code",
      "execution_count": null,
      "id": "7359213f",
      "metadata": {
        "id": "7359213f",
        "outputId": "a3075aff-b79d-4dc6-e6a6-3295395da603"
      },
      "outputs": [
        {
          "data": {
            "text/plain": [
              "123"
            ]
          },
          "execution_count": 14,
          "metadata": {},
          "output_type": "execute_result"
        }
      ],
      "source": [
        "def mean_length():\n",
        "    review_length = []\n",
        "    for review in imdb_df['reviews']:\n",
        "        review_length.append(len(review))\n",
        "\n",
        "    return int(np.ceil(np.mean(review_length)))\n",
        "max_length = mean_length()\n",
        "max_length"
      ]
    },
    {
      "cell_type": "code",
      "execution_count": null,
      "id": "f463e48a",
      "metadata": {
        "id": "f463e48a",
        "outputId": "a0b334b0-c19c-469c-d323-3030c3ba68ef"
      },
      "outputs": [
        {
          "data": {
            "text/plain": [
              "89732"
            ]
          },
          "execution_count": 15,
          "metadata": {},
          "output_type": "execute_result"
        }
      ],
      "source": [
        "tokenizer = Tokenizer(lower=False)\n",
        "tokenizer.fit_on_texts(imdb_df['reviews'])\n",
        "\n",
        "x = tokenizer.texts_to_sequences(imdb_df['reviews'])\n",
        "x = pad_sequences(x, maxlen=max_length, padding='post', truncating='post')\n",
        "total_words = len(tokenizer.word_index) + 1\n",
        "total_words"
      ]
    },
    {
      "cell_type": "markdown",
      "id": "a81d7682",
      "metadata": {
        "id": "a81d7682"
      },
      "source": [
        "# Model Architecture"
      ]
    },
    {
      "cell_type": "code",
      "execution_count": null,
      "id": "40178c01",
      "metadata": {
        "id": "40178c01",
        "outputId": "5da91371-8497-4b52-8983-3b94a3c093d5"
      },
      "outputs": [
        {
          "name": "stdout",
          "output_type": "stream",
          "text": [
            "Model: \"sequential\"\n",
            "_________________________________________________________________\n",
            " Layer (type)                Output Shape              Param #   \n",
            "=================================================================\n",
            " embedding (Embedding)       (None, 123, 32)           2871424   \n",
            "                                                                 \n",
            " lstm (LSTM)                 (None, 64)                24832     \n",
            "                                                                 \n",
            " dense (Dense)               (None, 256)               16640     \n",
            "                                                                 \n",
            " dropout (Dropout)           (None, 256)               0         \n",
            "                                                                 \n",
            " dense_1 (Dense)             (None, 1)                 257       \n",
            "                                                                 \n",
            "=================================================================\n",
            "Total params: 2913153 (11.11 MB)\n",
            "Trainable params: 2913153 (11.11 MB)\n",
            "Non-trainable params: 0 (0.00 Byte)\n",
            "_________________________________________________________________\n",
            "None\n"
          ]
        }
      ],
      "source": [
        "model = Sequential()\n",
        "model.add(Embedding(total_words, 32, input_length = max_length))\n",
        "model.add(LSTM(64))\n",
        "model.add(Dense(units=256, activation='relu'))\n",
        "model.add(Dropout(0.5))\n",
        "model.add(Dense(1, activation='sigmoid'))\n",
        "model.compile(optimizer = 'adam',loss = 'binary_crossentropy', metrics = ['accuracy'])\n",
        "print(model.summary())"
      ]
    },
    {
      "cell_type": "markdown",
      "id": "639f95d6",
      "metadata": {
        "id": "639f95d6"
      },
      "source": [
        "# Splitting Dataset in training and testing"
      ]
    },
    {
      "cell_type": "code",
      "execution_count": null,
      "id": "c147af95",
      "metadata": {
        "id": "c147af95"
      },
      "outputs": [],
      "source": [
        "x_train, x_test, y_train, y_test = train_test_split(x, imdb_df['sentiment'], test_size = 0.2, shuffle=True)"
      ]
    },
    {
      "cell_type": "markdown",
      "id": "094029fc",
      "metadata": {
        "id": "094029fc"
      },
      "source": [
        "# Fitting and saving best model"
      ]
    },
    {
      "cell_type": "code",
      "execution_count": null,
      "id": "efe555bc",
      "metadata": {
        "id": "efe555bc"
      },
      "outputs": [],
      "source": [
        "checkpoint = ModelCheckpoint(\n",
        "    'models/LSTM.h5',\n",
        "    monitor='accuracy',\n",
        "    save_best_only=True,\n",
        "    verbose=1\n",
        ")"
      ]
    },
    {
      "cell_type": "code",
      "execution_count": null,
      "id": "1b147aa5",
      "metadata": {
        "id": "1b147aa5",
        "outputId": "4709d9f2-ce8f-492f-a972-7c0653e93c68"
      },
      "outputs": [
        {
          "name": "stdout",
          "output_type": "stream",
          "text": [
            "Epoch 1/5\n",
            "248/248 [==============================] - ETA: 0s - loss: 0.5172 - accuracy: 0.7008\n",
            "Epoch 1: accuracy improved from -inf to 0.70081, saving model to models\\LSTM.h5\n"
          ]
        },
        {
          "name": "stderr",
          "output_type": "stream",
          "text": [
            "E:\\anaconda3\\envs\\rk\\lib\\site-packages\\keras\\src\\engine\\training.py:3079: UserWarning: You are saving your model as an HDF5 file via `model.save()`. This file format is considered legacy. We recommend using instead the native Keras format, e.g. `model.save('my_model.keras')`.\n",
            "  saving_api.save_model(\n"
          ]
        },
        {
          "name": "stdout",
          "output_type": "stream",
          "text": [
            "248/248 [==============================] - 50s 179ms/step - loss: 0.5172 - accuracy: 0.7008 - val_loss: 0.3155 - val_accuracy: 0.8713\n",
            "Epoch 2/5\n",
            "248/248 [==============================] - ETA: 0s - loss: 0.2211 - accuracy: 0.9193\n",
            "Epoch 2: accuracy improved from 0.70081 to 0.91932, saving model to models\\LSTM.h5\n",
            "248/248 [==============================] - 40s 163ms/step - loss: 0.2211 - accuracy: 0.9193 - val_loss: 0.3084 - val_accuracy: 0.8718\n",
            "Epoch 3/5\n",
            "248/248 [==============================] - ETA: 0s - loss: 0.1322 - accuracy: 0.9561\n",
            "Epoch 3: accuracy improved from 0.91932 to 0.95613, saving model to models\\LSTM.h5\n",
            "248/248 [==============================] - 41s 163ms/step - loss: 0.1322 - accuracy: 0.9561 - val_loss: 0.3516 - val_accuracy: 0.8652\n",
            "Epoch 4/5\n",
            "248/248 [==============================] - ETA: 0s - loss: 0.0849 - accuracy: 0.9747\n",
            "Epoch 4: accuracy improved from 0.95613 to 0.97466, saving model to models\\LSTM.h5\n",
            "248/248 [==============================] - 40s 161ms/step - loss: 0.0849 - accuracy: 0.9747 - val_loss: 0.4734 - val_accuracy: 0.8371\n",
            "Epoch 5/5\n",
            "248/248 [==============================] - ETA: 0s - loss: 0.0604 - accuracy: 0.9822\n",
            "Epoch 5: accuracy improved from 0.97466 to 0.98223, saving model to models\\LSTM.h5\n",
            "248/248 [==============================] - 42s 169ms/step - loss: 0.0604 - accuracy: 0.9822 - val_loss: 0.4897 - val_accuracy: 0.8598\n"
          ]
        }
      ],
      "source": [
        "history = model.fit(x_train, y_train, epochs = 5, batch_size=128,callbacks=[checkpoint], validation_split=0.2)"
      ]
    },
    {
      "cell_type": "code",
      "execution_count": null,
      "id": "de6a0ee6",
      "metadata": {
        "id": "de6a0ee6",
        "outputId": "0e753f33-5512-44e2-e7bd-01da9b9135dc"
      },
      "outputs": [
        {
          "data": {
            "image/png": "[encoded data removed]",
            "text/plain": [
              "<Figure size 640x480 with 1 Axes>"
            ]
          },
          "metadata": {},
          "output_type": "display_data"
        }
      ],
      "source": [
        "# Accuracy vs Epoch graph\n",
        "def show_train_history(train_history,train,validation):\n",
        "    plt.plot(train_history.history[train])\n",
        "    plt.plot(train_history.history[validation])\n",
        "    plt.title('Train History')\n",
        "    plt.ylabel('Accuracy')\n",
        "    plt.xlabel('Epoch')\n",
        "    plt.legend(['train', 'validation'], loc='upper left')\n",
        "    plt.show()\n",
        "show_train_history(history,'accuracy','val_accuracy')"
      ]
    },
    {
      "cell_type": "code",
      "execution_count": null,
      "id": "1991fa60",
      "metadata": {
        "id": "1991fa60",
        "outputId": "ac1a74a7-4526-4129-9dc0-c30f889693b9"
      },
      "outputs": [
        {
          "data": {
            "image/png": "[encoded data removed]",
            "text/plain": [
              "<Figure size 640x480 with 1 Axes>"
            ]
          },
          "metadata": {},
          "output_type": "display_data"
        }
      ],
      "source": [
        "# Loss vs Epoch graph\n",
        "def show_train_history(train_history,train,validation):\n",
        "    plt.plot(train_history.history[train])\n",
        "    plt.plot(train_history.history[validation])\n",
        "    plt.title('Train History')\n",
        "    plt.ylabel('Loss')\n",
        "    plt.xlabel('Epoch')\n",
        "    plt.legend(['train', 'validation'], loc='upper left')\n",
        "    plt.show()\n",
        "show_train_history(history,'loss','val_loss')"
      ]
    },
    {
      "cell_type": "code",
      "execution_count": null,
      "id": "465fb932",
      "metadata": {
        "id": "465fb932",
        "outputId": "823f4374-ecd0-4e9c-a83d-9e34392aeeb2"
      },
      "outputs": [
        {
          "name": "stdout",
          "output_type": "stream",
          "text": [
            "310/310 [==============================] - 7s 22ms/step - loss: 0.4983 - accuracy: 0.8557\n",
            "The accuracy of the model on the test set is  85.57023406028748\n"
          ]
        }
      ],
      "source": [
        "# Evaluate model\n",
        "score, acc = model.evaluate(x_test, y_test)\n",
        "print('The accuracy of the model on the test set is ', acc*100)"
      ]
    },
    {
      "cell_type": "code",
      "execution_count": null,
      "id": "3a37a081",
      "metadata": {
        "id": "3a37a081",
        "outputId": "6bab5939-c508-4195-e0f8-2fe9afb36b7c"
      },
      "outputs": [
        {
          "name": "stdout",
          "output_type": "stream",
          "text": [
            "310/310 [==============================] - 7s 20ms/step\n",
            "\n",
            "F1-score:  85.45288197621227\n",
            "\n",
            "Confusion matrix:\n",
            "[[4283  638]\n",
            " [ 793 4203]]\n",
            "\n",
            "Classification Report:\n",
            "              precision    recall  f1-score   support\n",
            "\n",
            "           0       0.84      0.87      0.86      4921\n",
            "           1       0.87      0.84      0.85      4996\n",
            "\n",
            "    accuracy                           0.86      9917\n",
            "   macro avg       0.86      0.86      0.86      9917\n",
            "weighted avg       0.86      0.86      0.86      9917\n",
            "\n"
          ]
        }
      ],
      "source": [
        "# Confusion matrix and classification report\n",
        "prediction = model.predict(x_test)\n",
        "y_pred = (prediction > 0.5)\n",
        "print('\\nF1-score: ', (f1_score(y_test,y_pred)*100))\n",
        "print('\\nConfusion matrix:')\n",
        "print(confusion_matrix(y_test,y_pred))\n",
        "print('\\nClassification Report:')\n",
        "print(classification_report(y_test,y_pred))"
      ]
    },
    {
      "cell_type": "code",
      "execution_count": null,
      "id": "43f769e6",
      "metadata": {
        "id": "43f769e6",
        "outputId": "83efc4e8-55c7-44cc-8331-ca61ead3fe25"
      },
      "outputs": [
        {
          "name": "stdout",
          "output_type": "stream",
          "text": [
            "310/310 [==============================] - 6s 21ms/step\n"
          ]
        }
      ],
      "source": [
        "def predict_prob(number):\n",
        "  return [1-number[0],number[0]]\n",
        "\n",
        "y_prob = np.array(list(map(predict_prob, model.predict(x_test))))\n",
        "# y_prob"
      ]
    },
    {
      "cell_type": "code",
      "execution_count": null,
      "id": "e0822b3a",
      "metadata": {
        "id": "e0822b3a",
        "outputId": "3c09d388-e70d-43ed-db32-d684305652bb"
      },
      "outputs": [
        {
          "data": {
            "image/png": "[encoded data removed]",
            "text/plain": [
              "<Figure size 500x500 with 1 Axes>"
            ]
          },
          "metadata": {},
          "output_type": "display_data"
        }
      ],
      "source": [
        "fpr, tpr, _ = roc_curve(y_test,y_prob[:, 1])\n",
        "plt.figure(figsize=(5, 5))\n",
        "plt.plot(fpr, tpr, label='LSTM')\n",
        "plt.xlabel('False Positive Rate')\n",
        "plt.ylabel('True Positive Rate')\n",
        "plt.plot([0, 1], [0, 1], color='purple', lw=1, linestyle='--')\n",
        "plt.title('ROC Curve')\n",
        "plt.legend()\n",
        "plt.show()"
      ]
    }
  ],
  "metadata": {
    "kernelspec": {
      "display_name": "rk",
      "language": "python",
      "name": "rk"
    },
    "language_info": {
      "codemirror_mode": {
        "name": "ipython",
        "version": 3
      },
      "file_extension": ".py",
      "mimetype": "text/x-python",
      "name": "python",
      "nbconvert_exporter": "python",
      "pygments_lexer": "ipython3",
      "version": "3.9.18"
    },
    "colab": {
      "provenance": []
    }
  },
  "nbformat": 4,
  "nbformat_minor": 5
}